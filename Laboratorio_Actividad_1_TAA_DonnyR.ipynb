{
  "cells": [
    {
      "cell_type": "markdown",
      "id": "e7acabdb",
      "metadata": {
        "id": "e7acabdb"
      },
      "source": [
        "_Aprendizaje Automático_\n",
        "\n",
        "_Máster Universitario en Inteligencia Artificial_\n",
        "\n",
        "# Laboratorio: Regresión lineal y árboles de decisión para tareas de regresión\n",
        "\n",
        "\n",
        "## Objetivos\n",
        "\n",
        "Mediante esta actividad se pretende que ponga en práctica los pasos para la resolución de un problema de machine learning, el tratamiento de datos y la creación de modelos basados en regresión lineal y árboles de decisión. El objetivo es comprender de forma práctica con un problema determinado las diferencias que existen a la hora de entrenar los diferentes modelos.\n",
        "\n",
        "- Iniciarse en el Análisis Exploratorio de Datos (EDA) para los problemas de Machine Learning.\n",
        "- Entender y aplicar los conceptos de la Regresión Lineal Múltiple a un problema de regresión.\n",
        "- Entender y aplicar los conceptos de Árboles de Decisión a un problema de regresión.\n",
        "- Evaluar y analizar los resultados de los clasificadores.\n",
        "- Investigar la aplicación de los modelos de clasificación a problemas reales.\n",
        "\n",
        "\n",
        "## Descripción de la actividad\n",
        "\n",
        "Debes completar los espacios indicados en el notebook con el código solicitado y la respuesta, en función de lo que se solicite. Ten encuenta que las celdas vacías indican cuántas líneas debe ocupar la respuesta, por lo general no más de una línea.\n",
        "\n",
        "El conjunto de datos con el que vamos a trabajar se encuentra en el siguiente enlace: https://archive.ics.uci.edu/dataset/360/air+quality\n",
        "\n",
        "Se trata de un dataset con un conjunto de datos sobre calidad del aire. El conjunto de datos contiene 9358 instancias de respuestas promediadas por hora de una matriz de 5 sensores químicos de óxido de metal integrados en un dispositivo multisensor químico de calidad del aire. El dispositivo estaba ubicado en un área significativamente contaminada, al nivel de la carretera, dentro de una ciudad italiana. Los datos se registraron desde marzo de 2004 hasta febrero de 2005 (un año).\n",
        "\n",
        "El objetivo de la regresión será predecir la calidad del aire para un determinado día.\n",
        "\n",
        "### Tareas que se deben realizar\n",
        "\n",
        "- Análisis descriptivo de los datos:\n",
        "   - Debe completarse el código solicitado y responder a las preguntas. Todo ello en el notebook dado como base.\n",
        "- Regresión:\n",
        "  - Debe completarse el código solicitado y responder a las preguntas. Todo ello en el notebook dado como base.\n",
        "- Investigación:\n",
        "  - Buscar un artículo científico (https://scholar.google.es/) con un caso de uso de regresión empleando una de las dos técnicas (o ambas) vistas en la actividad. Los artículos deben estar en revistas científicas, y deben ser posteriores a 2015. No debe utilizar técnicas de Deep Learning.\n",
        "  - Para el artículo indicar:\n",
        "    - Objetivo: cuál es el objetivo de la investigación, es decir a qué problema real está aplicando la regresión.\n",
        "    - Cómo utilizan las técnicas de regresión, si realizan alguna adaptación de los algoritmos indicarse.\n",
        "    - Principales resultados de la aplicación y de la investigación.\n"
      ]
    },
    {
      "cell_type": "code",
      "source": [
        "from google.colab import drive\n",
        "drive.mount('/content/drive')"
      ],
      "metadata": {
        "id": "Q9R9U15pLpZY",
        "outputId": "2eba16a8-45e5-45bd-a7bd-cb9e63909b53",
        "colab": {
          "base_uri": "https://localhost:8080/"
        }
      },
      "id": "Q9R9U15pLpZY",
      "execution_count": null,
      "outputs": [
        {
          "output_type": "stream",
          "name": "stdout",
          "text": [
            "Drive already mounted at /content/drive; to attempt to forcibly remount, call drive.mount(\"/content/drive\", force_remount=True).\n"
          ]
        }
      ]
    },
    {
      "cell_type": "markdown",
      "source": [
        "Comando para cargar el drive en el sistema y poder usar el archivo AIR+Quality"
      ],
      "metadata": {
        "id": "W5bxCbORiqRd"
      },
      "id": "W5bxCbORiqRd"
    },
    {
      "cell_type": "code",
      "execution_count": null,
      "id": "bff4b5f9",
      "metadata": {
        "colab": {
          "base_uri": "https://localhost:8080/"
        },
        "id": "bff4b5f9",
        "outputId": "db32a20a-0e99-4e72-ac4e-9846ceea6e6a"
      },
      "outputs": [
        {
          "output_type": "stream",
          "name": "stdout",
          "text": [
            "            Date      Time CO(GT)  PT08.S1(CO)  NMHC(GT) C6H6(GT)  \\\n",
            "0     10/03/2004  18.00.00    2,6       1360.0     150.0     11,9   \n",
            "1     10/03/2004  19.00.00      2       1292.0     112.0      9,4   \n",
            "2     10/03/2004  20.00.00    2,2       1402.0      88.0      9,0   \n",
            "3     10/03/2004  21.00.00    2,2       1376.0      80.0      9,2   \n",
            "4     10/03/2004  22.00.00    1,6       1272.0      51.0      6,5   \n",
            "...          ...       ...    ...          ...       ...      ...   \n",
            "9466         NaN       NaN    NaN          NaN       NaN      NaN   \n",
            "9467         NaN       NaN    NaN          NaN       NaN      NaN   \n",
            "9468         NaN       NaN    NaN          NaN       NaN      NaN   \n",
            "9469         NaN       NaN    NaN          NaN       NaN      NaN   \n",
            "9470         NaN       NaN    NaN          NaN       NaN      NaN   \n",
            "\n",
            "      PT08.S2(NMHC)  NOx(GT)  PT08.S3(NOx)  NO2(GT)  PT08.S4(NO2)  \\\n",
            "0            1046.0    166.0        1056.0    113.0        1692.0   \n",
            "1             955.0    103.0        1174.0     92.0        1559.0   \n",
            "2             939.0    131.0        1140.0    114.0        1555.0   \n",
            "3             948.0    172.0        1092.0    122.0        1584.0   \n",
            "4             836.0    131.0        1205.0    116.0        1490.0   \n",
            "...             ...      ...           ...      ...           ...   \n",
            "9466            NaN      NaN           NaN      NaN           NaN   \n",
            "9467            NaN      NaN           NaN      NaN           NaN   \n",
            "9468            NaN      NaN           NaN      NaN           NaN   \n",
            "9469            NaN      NaN           NaN      NaN           NaN   \n",
            "9470            NaN      NaN           NaN      NaN           NaN   \n",
            "\n",
            "      PT08.S5(O3)     T    RH      AH  \n",
            "0          1268.0  13,6  48,9  0,7578  \n",
            "1           972.0  13,3  47,7  0,7255  \n",
            "2          1074.0  11,9  54,0  0,7502  \n",
            "3          1203.0  11,0  60,0  0,7867  \n",
            "4          1110.0  11,2  59,6  0,7888  \n",
            "...           ...   ...   ...     ...  \n",
            "9466          NaN   NaN   NaN     NaN  \n",
            "9467          NaN   NaN   NaN     NaN  \n",
            "9468          NaN   NaN   NaN     NaN  \n",
            "9469          NaN   NaN   NaN     NaN  \n",
            "9470          NaN   NaN   NaN     NaN  \n",
            "\n",
            "[9471 rows x 15 columns]\n"
          ]
        }
      ],
      "source": [
        "## cargar el dataset\n",
        "import pandas as pd\n",
        "import numpy as np\n",
        "import seaborn as sns\n",
        "import matplotlib.pyplot as plt\n",
        "from matplotlib.colors import ListedColormap\n",
        "\n",
        "df = pd.read_csv(\"/content/drive/MyDrive/Unir/TAA/Actividad1/AirQualityUCI.csv\", low_memory=False, delimiter=';',\n",
        "usecols=[0,1,2,3,4,5,6,7,8,9,10,11,12,13,14]\n",
        ")\n",
        "print(df)"
      ]
    },
    {
      "cell_type": "markdown",
      "id": "19ceaba2",
      "metadata": {
        "jp-MarkdownHeadingCollapsed": true,
        "id": "19ceaba2"
      },
      "source": [
        "### Análisis descriptivo de los datos\n",
        "A continuación vas a encontrar una serie de preguntas que tendrás que responder. Para responder tendrás que escribir (y ejecutar) una (o más de una) línea de código, y a continuación indicar la respuesta en la celda indicada."
      ]
    },
    {
      "cell_type": "code",
      "execution_count": null,
      "id": "51f405b4",
      "metadata": {
        "id": "51f405b4"
      },
      "outputs": [],
      "source": [
        "## ¿cuántas instancias tiene el dataset?"
      ]
    },
    {
      "cell_type": "markdown",
      "id": "672c0ed2",
      "metadata": {
        "id": "672c0ed2"
      },
      "source": [
        "Se puedén observar 9471 filas en el archivo"
      ]
    },
    {
      "cell_type": "code",
      "execution_count": null,
      "id": "e18abd86",
      "metadata": {
        "colab": {
          "base_uri": "https://localhost:8080/",
          "height": 1000
        },
        "id": "e18abd86",
        "outputId": "57692e6b-69fe-4d34-abc7-49ce47f762f5"
      },
      "outputs": [
        {
          "output_type": "stream",
          "name": "stdout",
          "text": [
            "Tipos de datos por columna:\n",
            "Date: Categórico/Texto\n",
            "Time: Categórico/Texto\n",
            "CO(GT): Categórico/Texto\n",
            "PT08.S1(CO): Flotante\n",
            "NMHC(GT): Flotante\n",
            "C6H6(GT): Categórico/Texto\n",
            "PT08.S2(NMHC): Flotante\n",
            "NOx(GT): Flotante\n",
            "PT08.S3(NOx): Flotante\n",
            "NO2(GT): Flotante\n",
            "PT08.S4(NO2): Flotante\n",
            "PT08.S5(O3): Flotante\n",
            "T: Categórico/Texto\n",
            "RH: Categórico/Texto\n",
            "AH: Categórico/Texto\n",
            "Date              object\n",
            "Time              object\n",
            "CO(GT)            object\n",
            "PT08.S1(CO)      float64\n",
            "NMHC(GT)         float64\n",
            "C6H6(GT)          object\n",
            "PT08.S2(NMHC)    float64\n",
            "NOx(GT)          float64\n",
            "PT08.S3(NOx)     float64\n",
            "NO2(GT)          float64\n",
            "PT08.S4(NO2)     float64\n",
            "PT08.S5(O3)      float64\n",
            "T                 object\n",
            "RH                object\n",
            "AH                object\n",
            "dtype: object\n",
            "<class 'pandas.core.frame.DataFrame'>\n",
            "RangeIndex: 9471 entries, 0 to 9470\n",
            "Data columns (total 15 columns):\n",
            " #   Column         Non-Null Count  Dtype  \n",
            "---  ------         --------------  -----  \n",
            " 0   Date           9357 non-null   object \n",
            " 1   Time           9357 non-null   object \n",
            " 2   CO(GT)         9357 non-null   object \n",
            " 3   PT08.S1(CO)    9357 non-null   float64\n",
            " 4   NMHC(GT)       9357 non-null   float64\n",
            " 5   C6H6(GT)       9357 non-null   object \n",
            " 6   PT08.S2(NMHC)  9357 non-null   float64\n",
            " 7   NOx(GT)        9357 non-null   float64\n",
            " 8   PT08.S3(NOx)   9357 non-null   float64\n",
            " 9   NO2(GT)        9357 non-null   float64\n",
            " 10  PT08.S4(NO2)   9357 non-null   float64\n",
            " 11  PT08.S5(O3)    9357 non-null   float64\n",
            " 12  T              9357 non-null   object \n",
            " 13  RH             9357 non-null   object \n",
            " 14  AH             9357 non-null   object \n",
            "dtypes: float64(8), object(7)\n",
            "memory usage: 1.1+ MB\n"
          ]
        },
        {
          "output_type": "execute_result",
          "data": {
            "text/plain": [
              "         Date      Time CO(GT)  PT08.S1(CO)  NMHC(GT) C6H6(GT)  PT08.S2(NMHC)  \\\n",
              "0  10/03/2004  18.00.00    2,6       1360.0     150.0     11,9         1046.0   \n",
              "1  10/03/2004  19.00.00      2       1292.0     112.0      9,4          955.0   \n",
              "2  10/03/2004  20.00.00    2,2       1402.0      88.0      9,0          939.0   \n",
              "3  10/03/2004  21.00.00    2,2       1376.0      80.0      9,2          948.0   \n",
              "4  10/03/2004  22.00.00    1,6       1272.0      51.0      6,5          836.0   \n",
              "\n",
              "   NOx(GT)  PT08.S3(NOx)  NO2(GT)  PT08.S4(NO2)  PT08.S5(O3)     T    RH  \\\n",
              "0    166.0        1056.0    113.0        1692.0       1268.0  13,6  48,9   \n",
              "1    103.0        1174.0     92.0        1559.0        972.0  13,3  47,7   \n",
              "2    131.0        1140.0    114.0        1555.0       1074.0  11,9  54,0   \n",
              "3    172.0        1092.0    122.0        1584.0       1203.0  11,0  60,0   \n",
              "4    131.0        1205.0    116.0        1490.0       1110.0  11,2  59,6   \n",
              "\n",
              "       AH  \n",
              "0  0,7578  \n",
              "1  0,7255  \n",
              "2  0,7502  \n",
              "3  0,7867  \n",
              "4  0,7888  "
            ],
            "text/html": [
              "\n",
              "  <div id=\"df-9b902b88-430f-408d-b16a-d84fffbbe379\" class=\"colab-df-container\">\n",
              "    <div>\n",
              "<style scoped>\n",
              "    .dataframe tbody tr th:only-of-type {\n",
              "        vertical-align: middle;\n",
              "    }\n",
              "\n",
              "    .dataframe tbody tr th {\n",
              "        vertical-align: top;\n",
              "    }\n",
              "\n",
              "    .dataframe thead th {\n",
              "        text-align: right;\n",
              "    }\n",
              "</style>\n",
              "<table border=\"1\" class=\"dataframe\">\n",
              "  <thead>\n",
              "    <tr style=\"text-align: right;\">\n",
              "      <th></th>\n",
              "      <th>Date</th>\n",
              "      <th>Time</th>\n",
              "      <th>CO(GT)</th>\n",
              "      <th>PT08.S1(CO)</th>\n",
              "      <th>NMHC(GT)</th>\n",
              "      <th>C6H6(GT)</th>\n",
              "      <th>PT08.S2(NMHC)</th>\n",
              "      <th>NOx(GT)</th>\n",
              "      <th>PT08.S3(NOx)</th>\n",
              "      <th>NO2(GT)</th>\n",
              "      <th>PT08.S4(NO2)</th>\n",
              "      <th>PT08.S5(O3)</th>\n",
              "      <th>T</th>\n",
              "      <th>RH</th>\n",
              "      <th>AH</th>\n",
              "    </tr>\n",
              "  </thead>\n",
              "  <tbody>\n",
              "    <tr>\n",
              "      <th>0</th>\n",
              "      <td>10/03/2004</td>\n",
              "      <td>18.00.00</td>\n",
              "      <td>2,6</td>\n",
              "      <td>1360.0</td>\n",
              "      <td>150.0</td>\n",
              "      <td>11,9</td>\n",
              "      <td>1046.0</td>\n",
              "      <td>166.0</td>\n",
              "      <td>1056.0</td>\n",
              "      <td>113.0</td>\n",
              "      <td>1692.0</td>\n",
              "      <td>1268.0</td>\n",
              "      <td>13,6</td>\n",
              "      <td>48,9</td>\n",
              "      <td>0,7578</td>\n",
              "    </tr>\n",
              "    <tr>\n",
              "      <th>1</th>\n",
              "      <td>10/03/2004</td>\n",
              "      <td>19.00.00</td>\n",
              "      <td>2</td>\n",
              "      <td>1292.0</td>\n",
              "      <td>112.0</td>\n",
              "      <td>9,4</td>\n",
              "      <td>955.0</td>\n",
              "      <td>103.0</td>\n",
              "      <td>1174.0</td>\n",
              "      <td>92.0</td>\n",
              "      <td>1559.0</td>\n",
              "      <td>972.0</td>\n",
              "      <td>13,3</td>\n",
              "      <td>47,7</td>\n",
              "      <td>0,7255</td>\n",
              "    </tr>\n",
              "    <tr>\n",
              "      <th>2</th>\n",
              "      <td>10/03/2004</td>\n",
              "      <td>20.00.00</td>\n",
              "      <td>2,2</td>\n",
              "      <td>1402.0</td>\n",
              "      <td>88.0</td>\n",
              "      <td>9,0</td>\n",
              "      <td>939.0</td>\n",
              "      <td>131.0</td>\n",
              "      <td>1140.0</td>\n",
              "      <td>114.0</td>\n",
              "      <td>1555.0</td>\n",
              "      <td>1074.0</td>\n",
              "      <td>11,9</td>\n",
              "      <td>54,0</td>\n",
              "      <td>0,7502</td>\n",
              "    </tr>\n",
              "    <tr>\n",
              "      <th>3</th>\n",
              "      <td>10/03/2004</td>\n",
              "      <td>21.00.00</td>\n",
              "      <td>2,2</td>\n",
              "      <td>1376.0</td>\n",
              "      <td>80.0</td>\n",
              "      <td>9,2</td>\n",
              "      <td>948.0</td>\n",
              "      <td>172.0</td>\n",
              "      <td>1092.0</td>\n",
              "      <td>122.0</td>\n",
              "      <td>1584.0</td>\n",
              "      <td>1203.0</td>\n",
              "      <td>11,0</td>\n",
              "      <td>60,0</td>\n",
              "      <td>0,7867</td>\n",
              "    </tr>\n",
              "    <tr>\n",
              "      <th>4</th>\n",
              "      <td>10/03/2004</td>\n",
              "      <td>22.00.00</td>\n",
              "      <td>1,6</td>\n",
              "      <td>1272.0</td>\n",
              "      <td>51.0</td>\n",
              "      <td>6,5</td>\n",
              "      <td>836.0</td>\n",
              "      <td>131.0</td>\n",
              "      <td>1205.0</td>\n",
              "      <td>116.0</td>\n",
              "      <td>1490.0</td>\n",
              "      <td>1110.0</td>\n",
              "      <td>11,2</td>\n",
              "      <td>59,6</td>\n",
              "      <td>0,7888</td>\n",
              "    </tr>\n",
              "  </tbody>\n",
              "</table>\n",
              "</div>\n",
              "    <div class=\"colab-df-buttons\">\n",
              "\n",
              "  <div class=\"colab-df-container\">\n",
              "    <button class=\"colab-df-convert\" onclick=\"convertToInteractive('df-9b902b88-430f-408d-b16a-d84fffbbe379')\"\n",
              "            title=\"Convert this dataframe to an interactive table.\"\n",
              "            style=\"display:none;\">\n",
              "\n",
              "  <svg xmlns=\"http://www.w3.org/2000/svg\" height=\"24px\" viewBox=\"0 -960 960 960\">\n",
              "    <path d=\"M120-120v-720h720v720H120Zm60-500h600v-160H180v160Zm220 220h160v-160H400v160Zm0 220h160v-160H400v160ZM180-400h160v-160H180v160Zm440 0h160v-160H620v160ZM180-180h160v-160H180v160Zm440 0h160v-160H620v160Z\"/>\n",
              "  </svg>\n",
              "    </button>\n",
              "\n",
              "  <style>\n",
              "    .colab-df-container {\n",
              "      display:flex;\n",
              "      gap: 12px;\n",
              "    }\n",
              "\n",
              "    .colab-df-convert {\n",
              "      background-color: #E8F0FE;\n",
              "      border: none;\n",
              "      border-radius: 50%;\n",
              "      cursor: pointer;\n",
              "      display: none;\n",
              "      fill: #1967D2;\n",
              "      height: 32px;\n",
              "      padding: 0 0 0 0;\n",
              "      width: 32px;\n",
              "    }\n",
              "\n",
              "    .colab-df-convert:hover {\n",
              "      background-color: #E2EBFA;\n",
              "      box-shadow: 0px 1px 2px rgba(60, 64, 67, 0.3), 0px 1px 3px 1px rgba(60, 64, 67, 0.15);\n",
              "      fill: #174EA6;\n",
              "    }\n",
              "\n",
              "    .colab-df-buttons div {\n",
              "      margin-bottom: 4px;\n",
              "    }\n",
              "\n",
              "    [theme=dark] .colab-df-convert {\n",
              "      background-color: #3B4455;\n",
              "      fill: #D2E3FC;\n",
              "    }\n",
              "\n",
              "    [theme=dark] .colab-df-convert:hover {\n",
              "      background-color: #434B5C;\n",
              "      box-shadow: 0px 1px 3px 1px rgba(0, 0, 0, 0.15);\n",
              "      filter: drop-shadow(0px 1px 2px rgba(0, 0, 0, 0.3));\n",
              "      fill: #FFFFFF;\n",
              "    }\n",
              "  </style>\n",
              "\n",
              "    <script>\n",
              "      const buttonEl =\n",
              "        document.querySelector('#df-9b902b88-430f-408d-b16a-d84fffbbe379 button.colab-df-convert');\n",
              "      buttonEl.style.display =\n",
              "        google.colab.kernel.accessAllowed ? 'block' : 'none';\n",
              "\n",
              "      async function convertToInteractive(key) {\n",
              "        const element = document.querySelector('#df-9b902b88-430f-408d-b16a-d84fffbbe379');\n",
              "        const dataTable =\n",
              "          await google.colab.kernel.invokeFunction('convertToInteractive',\n",
              "                                                    [key], {});\n",
              "        if (!dataTable) return;\n",
              "\n",
              "        const docLinkHtml = 'Like what you see? Visit the ' +\n",
              "          '<a target=\"_blank\" href=https://colab.research.google.com/notebooks/data_table.ipynb>data table notebook</a>'\n",
              "          + ' to learn more about interactive tables.';\n",
              "        element.innerHTML = '';\n",
              "        dataTable['output_type'] = 'display_data';\n",
              "        await google.colab.output.renderOutput(dataTable, element);\n",
              "        const docLink = document.createElement('div');\n",
              "        docLink.innerHTML = docLinkHtml;\n",
              "        element.appendChild(docLink);\n",
              "      }\n",
              "    </script>\n",
              "  </div>\n",
              "\n",
              "\n",
              "<div id=\"df-a034fed4-9d3f-431f-a493-69dd5f890029\">\n",
              "  <button class=\"colab-df-quickchart\" onclick=\"quickchart('df-a034fed4-9d3f-431f-a493-69dd5f890029')\"\n",
              "            title=\"Suggest charts\"\n",
              "            style=\"display:none;\">\n",
              "\n",
              "<svg xmlns=\"http://www.w3.org/2000/svg\" height=\"24px\"viewBox=\"0 0 24 24\"\n",
              "     width=\"24px\">\n",
              "    <g>\n",
              "        <path d=\"M19 3H5c-1.1 0-2 .9-2 2v14c0 1.1.9 2 2 2h14c1.1 0 2-.9 2-2V5c0-1.1-.9-2-2-2zM9 17H7v-7h2v7zm4 0h-2V7h2v10zm4 0h-2v-4h2v4z\"/>\n",
              "    </g>\n",
              "</svg>\n",
              "  </button>\n",
              "\n",
              "<style>\n",
              "  .colab-df-quickchart {\n",
              "      --bg-color: #E8F0FE;\n",
              "      --fill-color: #1967D2;\n",
              "      --hover-bg-color: #E2EBFA;\n",
              "      --hover-fill-color: #174EA6;\n",
              "      --disabled-fill-color: #AAA;\n",
              "      --disabled-bg-color: #DDD;\n",
              "  }\n",
              "\n",
              "  [theme=dark] .colab-df-quickchart {\n",
              "      --bg-color: #3B4455;\n",
              "      --fill-color: #D2E3FC;\n",
              "      --hover-bg-color: #434B5C;\n",
              "      --hover-fill-color: #FFFFFF;\n",
              "      --disabled-bg-color: #3B4455;\n",
              "      --disabled-fill-color: #666;\n",
              "  }\n",
              "\n",
              "  .colab-df-quickchart {\n",
              "    background-color: var(--bg-color);\n",
              "    border: none;\n",
              "    border-radius: 50%;\n",
              "    cursor: pointer;\n",
              "    display: none;\n",
              "    fill: var(--fill-color);\n",
              "    height: 32px;\n",
              "    padding: 0;\n",
              "    width: 32px;\n",
              "  }\n",
              "\n",
              "  .colab-df-quickchart:hover {\n",
              "    background-color: var(--hover-bg-color);\n",
              "    box-shadow: 0 1px 2px rgba(60, 64, 67, 0.3), 0 1px 3px 1px rgba(60, 64, 67, 0.15);\n",
              "    fill: var(--button-hover-fill-color);\n",
              "  }\n",
              "\n",
              "  .colab-df-quickchart-complete:disabled,\n",
              "  .colab-df-quickchart-complete:disabled:hover {\n",
              "    background-color: var(--disabled-bg-color);\n",
              "    fill: var(--disabled-fill-color);\n",
              "    box-shadow: none;\n",
              "  }\n",
              "\n",
              "  .colab-df-spinner {\n",
              "    border: 2px solid var(--fill-color);\n",
              "    border-color: transparent;\n",
              "    border-bottom-color: var(--fill-color);\n",
              "    animation:\n",
              "      spin 1s steps(1) infinite;\n",
              "  }\n",
              "\n",
              "  @keyframes spin {\n",
              "    0% {\n",
              "      border-color: transparent;\n",
              "      border-bottom-color: var(--fill-color);\n",
              "      border-left-color: var(--fill-color);\n",
              "    }\n",
              "    20% {\n",
              "      border-color: transparent;\n",
              "      border-left-color: var(--fill-color);\n",
              "      border-top-color: var(--fill-color);\n",
              "    }\n",
              "    30% {\n",
              "      border-color: transparent;\n",
              "      border-left-color: var(--fill-color);\n",
              "      border-top-color: var(--fill-color);\n",
              "      border-right-color: var(--fill-color);\n",
              "    }\n",
              "    40% {\n",
              "      border-color: transparent;\n",
              "      border-right-color: var(--fill-color);\n",
              "      border-top-color: var(--fill-color);\n",
              "    }\n",
              "    60% {\n",
              "      border-color: transparent;\n",
              "      border-right-color: var(--fill-color);\n",
              "    }\n",
              "    80% {\n",
              "      border-color: transparent;\n",
              "      border-right-color: var(--fill-color);\n",
              "      border-bottom-color: var(--fill-color);\n",
              "    }\n",
              "    90% {\n",
              "      border-color: transparent;\n",
              "      border-bottom-color: var(--fill-color);\n",
              "    }\n",
              "  }\n",
              "</style>\n",
              "\n",
              "  <script>\n",
              "    async function quickchart(key) {\n",
              "      const quickchartButtonEl =\n",
              "        document.querySelector('#' + key + ' button');\n",
              "      quickchartButtonEl.disabled = true;  // To prevent multiple clicks.\n",
              "      quickchartButtonEl.classList.add('colab-df-spinner');\n",
              "      try {\n",
              "        const charts = await google.colab.kernel.invokeFunction(\n",
              "            'suggestCharts', [key], {});\n",
              "      } catch (error) {\n",
              "        console.error('Error during call to suggestCharts:', error);\n",
              "      }\n",
              "      quickchartButtonEl.classList.remove('colab-df-spinner');\n",
              "      quickchartButtonEl.classList.add('colab-df-quickchart-complete');\n",
              "    }\n",
              "    (() => {\n",
              "      let quickchartButtonEl =\n",
              "        document.querySelector('#df-a034fed4-9d3f-431f-a493-69dd5f890029 button');\n",
              "      quickchartButtonEl.style.display =\n",
              "        google.colab.kernel.accessAllowed ? 'block' : 'none';\n",
              "    })();\n",
              "  </script>\n",
              "</div>\n",
              "\n",
              "    </div>\n",
              "  </div>\n"
            ],
            "application/vnd.google.colaboratory.intrinsic+json": {
              "type": "dataframe",
              "variable_name": "df",
              "summary": "{\n  \"name\": \"df\",\n  \"rows\": 9471,\n  \"fields\": [\n    {\n      \"column\": \"Date\",\n      \"properties\": {\n        \"dtype\": \"category\",\n        \"num_unique_values\": 391,\n        \"samples\": [\n          \"19/03/2004\",\n          \"21/04/2004\",\n          \"12/04/2004\"\n        ],\n        \"semantic_type\": \"\",\n        \"description\": \"\"\n      }\n    },\n    {\n      \"column\": \"Time\",\n      \"properties\": {\n        \"dtype\": \"category\",\n        \"num_unique_values\": 24,\n        \"samples\": [\n          \"02.00.00\",\n          \"10.00.00\",\n          \"18.00.00\"\n        ],\n        \"semantic_type\": \"\",\n        \"description\": \"\"\n      }\n    },\n    {\n      \"column\": \"CO(GT)\",\n      \"properties\": {\n        \"dtype\": \"category\",\n        \"num_unique_values\": 104,\n        \"samples\": [\n          \"3,5\",\n          \"4,9\",\n          \"5,2\"\n        ],\n        \"semantic_type\": \"\",\n        \"description\": \"\"\n      }\n    },\n    {\n      \"column\": \"PT08.S1(CO)\",\n      \"properties\": {\n        \"dtype\": \"number\",\n        \"std\": 329.8327098861891,\n        \"min\": -200.0,\n        \"max\": 2040.0,\n        \"num_unique_values\": 1042,\n        \"samples\": [\n          1765.0,\n          1526.0,\n          1081.0\n        ],\n        \"semantic_type\": \"\",\n        \"description\": \"\"\n      }\n    },\n    {\n      \"column\": \"NMHC(GT)\",\n      \"properties\": {\n        \"dtype\": \"number\",\n        \"std\": 139.7890928968176,\n        \"min\": -200.0,\n        \"max\": 1189.0,\n        \"num_unique_values\": 430,\n        \"samples\": [\n          174.0,\n          92.0,\n          320.0\n        ],\n        \"semantic_type\": \"\",\n        \"description\": \"\"\n      }\n    },\n    {\n      \"column\": \"C6H6(GT)\",\n      \"properties\": {\n        \"dtype\": \"category\",\n        \"num_unique_values\": 408,\n        \"samples\": [\n          \"9,7\",\n          \"15,9\",\n          \"28,3\"\n        ],\n        \"semantic_type\": \"\",\n        \"description\": \"\"\n      }\n    },\n    {\n      \"column\": \"PT08.S2(NMHC)\",\n      \"properties\": {\n        \"dtype\": \"number\",\n        \"std\": 342.3332516496712,\n        \"min\": -200.0,\n        \"max\": 2214.0,\n        \"num_unique_values\": 1246,\n        \"samples\": [\n          616.0,\n          1128.0,\n          1889.0\n        ],\n        \"semantic_type\": \"\",\n        \"description\": \"\"\n      }\n    },\n    {\n      \"column\": \"NOx(GT)\",\n      \"properties\": {\n        \"dtype\": \"number\",\n        \"std\": 257.43386629107437,\n        \"min\": -200.0,\n        \"max\": 1479.0,\n        \"num_unique_values\": 926,\n        \"samples\": [\n          285.0,\n          580.0,\n          82.0\n        ],\n        \"semantic_type\": \"\",\n        \"description\": \"\"\n      }\n    },\n    {\n      \"column\": \"PT08.S3(NOx)\",\n      \"properties\": {\n        \"dtype\": \"number\",\n        \"std\": 321.99355160311677,\n        \"min\": -200.0,\n        \"max\": 2683.0,\n        \"num_unique_values\": 1222,\n        \"samples\": [\n          996.0,\n          618.0,\n          949.0\n        ],\n        \"semantic_type\": \"\",\n        \"description\": \"\"\n      }\n    },\n    {\n      \"column\": \"NO2(GT)\",\n      \"properties\": {\n        \"dtype\": \"number\",\n        \"std\": 126.94045525890907,\n        \"min\": -200.0,\n        \"max\": 340.0,\n        \"num_unique_values\": 284,\n        \"samples\": [\n          -200.0,\n          195.0,\n          17.0\n        ],\n        \"semantic_type\": \"\",\n        \"description\": \"\"\n      }\n    },\n    {\n      \"column\": \"PT08.S4(NO2)\",\n      \"properties\": {\n        \"dtype\": \"number\",\n        \"std\": 467.2101245570639,\n        \"min\": -200.0,\n        \"max\": 2775.0,\n        \"num_unique_values\": 1604,\n        \"samples\": [\n          1346.0,\n          2280.0,\n          1648.0\n        ],\n        \"semantic_type\": \"\",\n        \"description\": \"\"\n      }\n    },\n    {\n      \"column\": \"PT08.S5(O3)\",\n      \"properties\": {\n        \"dtype\": \"number\",\n        \"std\": 456.9381844739877,\n        \"min\": -200.0,\n        \"max\": 2523.0,\n        \"num_unique_values\": 1744,\n        \"samples\": [\n          816.0,\n          829.0,\n          639.0\n        ],\n        \"semantic_type\": \"\",\n        \"description\": \"\"\n      }\n    },\n    {\n      \"column\": \"T\",\n      \"properties\": {\n        \"dtype\": \"category\",\n        \"num_unique_values\": 437,\n        \"samples\": [\n          \"5,8\",\n          \"23,3\",\n          \"39,7\"\n        ],\n        \"semantic_type\": \"\",\n        \"description\": \"\"\n      }\n    },\n    {\n      \"column\": \"RH\",\n      \"properties\": {\n        \"dtype\": \"category\",\n        \"num_unique_values\": 754,\n        \"samples\": [\n          \"13,1\",\n          \"56,1\",\n          \"15,6\"\n        ],\n        \"semantic_type\": \"\",\n        \"description\": \"\"\n      }\n    },\n    {\n      \"column\": \"AH\",\n      \"properties\": {\n        \"dtype\": \"string\",\n        \"num_unique_values\": 6684,\n        \"samples\": [\n          \"2,1059\",\n          \"0,6898\",\n          \"1,0526\"\n        ],\n        \"semantic_type\": \"\",\n        \"description\": \"\"\n      }\n    }\n  ]\n}"
            }
          },
          "metadata": {},
          "execution_count": 14
        }
      ],
      "source": [
        "## ¿cuál es el tipo de datos de cada una de las columnas?\n",
        "# Función para clasificar tipos de datos\n",
        "def clasificar_tipos_datos(df):\n",
        "    tipos_datos = {}\n",
        "\n",
        "    for columna, tipo in df.dtypes.items():\n",
        "        if pd.api.types.is_datetime64_any_dtype(tipo):\n",
        "            tipos_datos[columna] = 'Fecha/Hora'\n",
        "        elif pd.api.types.is_float_dtype(tipo):\n",
        "            tipos_datos[columna] = 'Flotante'\n",
        "        elif pd.api.types.is_integer_dtype(tipo):\n",
        "            tipos_datos[columna] = 'Entero'\n",
        "        elif pd.api.types.is_object_dtype(tipo):\n",
        "            tipos_datos[columna] = 'Categórico/Texto'\n",
        "        else:\n",
        "            tipos_datos[columna] = 'Otro'\n",
        "\n",
        "    return tipos_datos\n",
        "\n",
        "# Clasificar los tipos de datos\n",
        "tipos_datos = clasificar_tipos_datos(df)\n",
        "\n",
        "# Mostrar los resultados\n",
        "print(\"Tipos de datos por columna:\")\n",
        "for columna, tipo in tipos_datos.items():\n",
        "    print(f\"{columna}: {tipo}\")\n",
        "\n",
        "print(df.dtypes)\n",
        "df.info()\n",
        "df.describe()\n",
        "df.head()\n"
      ]
    },
    {
      "cell_type": "markdown",
      "id": "d1c990c1",
      "metadata": {
        "id": "d1c990c1"
      },
      "source": [
        "_indica aquí tu respuesta_"
      ]
    },
    {
      "cell_type": "code",
      "execution_count": null,
      "id": "150ac3f5",
      "metadata": {
        "id": "150ac3f5"
      },
      "outputs": [],
      "source": [
        "## ¿cuántas columnas categóricas hay? ¿y cuántas continuas?"
      ]
    },
    {
      "cell_type": "markdown",
      "id": "dc913654",
      "metadata": {
        "id": "dc913654"
      },
      "source": [
        "_indica aquí tu respuesta_"
      ]
    },
    {
      "cell_type": "code",
      "execution_count": null,
      "id": "a52b4cf2",
      "metadata": {
        "colab": {
          "base_uri": "https://localhost:8080/"
        },
        "id": "a52b4cf2",
        "outputId": "99c561fa-0d5d-4fba-98a3-4251110b62e8"
      },
      "outputs": [
        {
          "output_type": "stream",
          "name": "stdout",
          "text": [
            "Cantidad de valores nulos por columna:\n",
            "Date: 114 valores nulos\n",
            "Time: 114 valores nulos\n",
            "CO(GT): 114 valores nulos\n",
            "PT08.S1(CO): 114 valores nulos\n",
            "NMHC(GT): 114 valores nulos\n",
            "C6H6(GT): 114 valores nulos\n",
            "PT08.S2(NMHC): 114 valores nulos\n",
            "NOx(GT): 114 valores nulos\n",
            "PT08.S3(NOx): 114 valores nulos\n",
            "NO2(GT): 114 valores nulos\n",
            "PT08.S4(NO2): 114 valores nulos\n",
            "PT08.S5(O3): 114 valores nulos\n",
            "T: 114 valores nulos\n",
            "RH: 114 valores nulos\n",
            "AH: 114 valores nulos\n"
          ]
        }
      ],
      "source": [
        "## ¿existen valores nulos en el dataset?\n",
        "# Contar valores nulos por columna\n",
        "valores_nulos_por_columna = df.isnull().sum()\n",
        "\n",
        "# Mostrar los resultados\n",
        "print(\"Cantidad de valores nulos por columna:\")\n",
        "for columna, cantidad_nulos in valores_nulos_por_columna.items():\n",
        "    print(f\"{columna}: {cantidad_nulos} valores nulos\")"
      ]
    },
    {
      "cell_type": "markdown",
      "id": "6a417398",
      "metadata": {
        "id": "6a417398"
      },
      "source": [
        "_indica aquí tu respuesta_"
      ]
    },
    {
      "cell_type": "code",
      "execution_count": null,
      "id": "e4c1b97d",
      "metadata": {
        "id": "e4c1b97d"
      },
      "outputs": [],
      "source": [
        "## ¿cuál es la variable respuesta?¿de qué tipo es?"
      ]
    },
    {
      "cell_type": "markdown",
      "id": "b1c1fdde",
      "metadata": {
        "id": "b1c1fdde"
      },
      "source": [
        "_indica aquí tu respuesta_"
      ]
    },
    {
      "cell_type": "code",
      "execution_count": null,
      "id": "159b126d",
      "metadata": {
        "id": "159b126d",
        "outputId": "bfb3867a-5335-4c6e-9991-76022b6686e1",
        "colab": {
          "base_uri": "https://localhost:8080/",
          "height": 694
        }
      },
      "outputs": [
        {
          "output_type": "stream",
          "name": "stdout",
          "text": [
            "Axes(0.125,0.11;0.775x0.77)\n",
            "     CO(GT)  NOx(GT)  NO2(GT)\n",
            "0       2,6    166.0    113.0\n",
            "1         2    103.0     92.0\n",
            "2       2,2    131.0    114.0\n",
            "3       2,2    172.0    122.0\n",
            "4       1,6    131.0    116.0\n",
            "...     ...      ...      ...\n",
            "9466    NaN      NaN      NaN\n",
            "9467    NaN      NaN      NaN\n",
            "9468    NaN      NaN      NaN\n",
            "9469    NaN      NaN      NaN\n",
            "9470    NaN      NaN      NaN\n",
            "\n",
            "[9471 rows x 3 columns]\n"
          ]
        },
        {
          "output_type": "display_data",
          "data": {
            "text/plain": [
              "<Figure size 640x480 with 1 Axes>"
            ],
            "image/png": "[encoded data removed]"
          },
          "metadata": {}
        }
      ],
      "source": [
        "## Si te fijas en los estadísticos del dataset, ¿cómo es la distribución de las variables, CO, NOx y NO2?\n",
        "\n",
        "df1 = pd.read_csv(\"/content/drive/MyDrive/Unir/TAA/Actividad1/AirQualityUCI.csv\", low_memory=False, delimiter=';',\n",
        "usecols=['CO(GT)', 'NOx(GT)', 'NO2(GT)']\n",
        ")\n",
        "colors = ['blue', 'red', 'yellow']\n",
        "histogram1 = df1.plot.hist(bins= 12, edgecolor='black', color = colors )\n",
        "print(histogram1)\n",
        "print(df1)"
      ]
    },
    {
      "cell_type": "markdown",
      "id": "189880ab",
      "metadata": {
        "id": "189880ab"
      },
      "source": [
        "_indica aquí tu respuesta_"
      ]
    },
    {
      "cell_type": "markdown",
      "id": "dab9bd22",
      "metadata": {
        "id": "dab9bd22"
      },
      "source": [
        "¿Estas variables muestran alguna distribución especial?¿Tienen datos faltantes?¿y datos anómalos?"
      ]
    },
    {
      "cell_type": "markdown",
      "id": "43f922c8",
      "metadata": {
        "id": "43f922c8"
      },
      "source": [
        "_indica aquí tu respuesta_"
      ]
    },
    {
      "cell_type": "code",
      "source": [
        "df2=pd.DataFrame({'x_values':range(1,101),'y_values':np.random.randn(100)*15+range(1,101) })\n",
        "plt.plot( 'x_values', 'y_values', data=df2, linestyle='none', marker='o')\n",
        "plt.show()\n",
        "print(df2)\n",
        "\n",
        "# Comprobar si las columnas existen en el DataFrame\n",
        "columnas_interes = ['CO(GT)', 'NOx(GT)', 'NO2(GT)']\n",
        "\n",
        "for columna in columnas_interes:\n",
        "    if columna not in df1.columns:\n",
        "        raise ValueError(f\"La columna '{columna}' no existe en el DataFrame.\")\n",
        "\n",
        "# Configurar el estilo de los gráficos\n",
        "sns.set(style=\"whitegrid\")\n",
        "\n",
        "# Crear un histograma para cada variable\n",
        "plt.figure(figsize=(15, 5))\n",
        "\n",
        "for i, columna in enumerate(columnas_interes, start=1):\n",
        "    plt.subplot(1, 3, i)  # 1 fila, 3 columnas, i-th gráfico\n",
        "    sns.histplot(df1[columna].dropna(), bins=30, kde=False, color='blue')\n",
        "    plt.title(f'Histograma de {columna}')\n",
        "    plt.xlabel(columna)\n",
        "    plt.ylabel('Frecuencia')\n",
        "    plt.grid(True)\n",
        "\n",
        "#plt.tight_layout()  # Ajustar el espaciado entre gráficos\n",
        "plt.show()"
      ],
      "metadata": {
        "id": "cCZcAWt7922o",
        "outputId": "05adee1a-e040-4a28-85e5-ac2432165533",
        "colab": {
          "base_uri": "https://localhost:8080/",
          "height": 1000
        }
      },
      "id": "cCZcAWt7922o",
      "execution_count": null,
      "outputs": [
        {
          "output_type": "display_data",
          "data": {
            "text/plain": [
              "<Figure size 640x480 with 1 Axes>"
            ],
            "image/png": "[encoded data removed]"
          },
          "metadata": {}
        },
        {
          "output_type": "stream",
          "name": "stdout",
          "text": [
            "    x_values    y_values\n",
            "0          1    1.474046\n",
            "1          2   -4.588221\n",
            "2          3   19.753472\n",
            "3          4   25.911363\n",
            "4          5   11.135610\n",
            "..       ...         ...\n",
            "95        96   95.488106\n",
            "96        97   64.147347\n",
            "97        98   99.960353\n",
            "98        99  105.639582\n",
            "99       100   99.361090\n",
            "\n",
            "[100 rows x 2 columns]\n"
          ]
        },
        {
          "output_type": "display_data",
          "data": {
            "text/plain": [
              "<Figure size 1500x500 with 3 Axes>"
            ],
            "image/png": "[encoded data removed]"
          },
          "metadata": {}
        }
      ]
    },
    {
      "cell_type": "code",
      "execution_count": null,
      "id": "895be4fe",
      "metadata": {
        "id": "895be4fe"
      },
      "outputs": [],
      "source": [
        "## ¿cómo son las correlaciones entre las variables del dataset?"
      ]
    },
    {
      "cell_type": "code",
      "execution_count": null,
      "id": "cc8d1c50",
      "metadata": {
        "id": "cc8d1c50"
      },
      "outputs": [],
      "source": []
    },
    {
      "cell_type": "markdown",
      "id": "3b0603eb",
      "metadata": {
        "id": "3b0603eb"
      },
      "source": [
        "_indica aquí tu respuesta_"
      ]
    },
    {
      "cell_type": "code",
      "execution_count": null,
      "id": "72192498",
      "metadata": {
        "id": "72192498"
      },
      "outputs": [],
      "source": [
        "## ¿qué tres variables son las más correlacionadas con la variable objetivo?"
      ]
    },
    {
      "cell_type": "markdown",
      "id": "d3763b5c",
      "metadata": {
        "id": "d3763b5c"
      },
      "source": [
        "_indica aquí tu respuesta_"
      ]
    },
    {
      "cell_type": "code",
      "execution_count": null,
      "id": "92241ae1",
      "metadata": {
        "id": "92241ae1"
      },
      "outputs": [],
      "source": []
    },
    {
      "cell_type": "code",
      "execution_count": null,
      "id": "33dbcc4f",
      "metadata": {
        "id": "33dbcc4f"
      },
      "outputs": [],
      "source": [
        "## ¿existe alguna variable que no tenga correlación?"
      ]
    },
    {
      "cell_type": "markdown",
      "id": "3f368719",
      "metadata": {
        "id": "3f368719"
      },
      "source": [
        "_indica aquí tu respuesta_"
      ]
    },
    {
      "cell_type": "code",
      "execution_count": null,
      "id": "a8ee5560",
      "metadata": {
        "id": "a8ee5560"
      },
      "outputs": [],
      "source": []
    },
    {
      "cell_type": "markdown",
      "id": "ce7c5aa2",
      "metadata": {
        "id": "ce7c5aa2"
      },
      "source": [
        "En base al EDA realizado, ¿qué suposiciones se pueden hacer sobre los datos?¿qué conclusiones extraes para implementar el modelo predictivo?"
      ]
    },
    {
      "cell_type": "markdown",
      "id": "aae42f2d",
      "metadata": {
        "id": "aae42f2d"
      },
      "source": [
        "_indica aquí tu respuesta_"
      ]
    },
    {
      "cell_type": "markdown",
      "id": "cec604c3",
      "metadata": {
        "id": "cec604c3"
      },
      "source": [
        "### Regresión\n",
        "\n",
        "Para llevar a cabo la tarea de regresión deseada se pretender hacer una comparativa de varios modelos. Unos usarán el algortimo de regresión lineal, y otros realizarán la predicción haciendo uso de árboles de decisión.\n",
        "\n",
        "Para los primeros modelos hay que usar el módulo https://scikit-learn.org/stable/modules/generated/sklearn.linear_model.LinearRegression.html\n",
        "\n",
        "El algortimo de Regresión Lineal necesita saber cuáles son las variables que va a tener en cuenta para realizar la estimación.\n",
        "\n",
        "El primero modelo que se debe construir usará una regresión lineal simple. Para ello sigue los siguientes pasos."
      ]
    },
    {
      "cell_type": "markdown",
      "id": "151b0658",
      "metadata": {
        "id": "151b0658"
      },
      "source": [
        "Antes de empezar con la implementación de los modelos hace falta realizar una transformación de datos, escalarlos."
      ]
    },
    {
      "cell_type": "code",
      "execution_count": null,
      "id": "36baf00e",
      "metadata": {
        "id": "36baf00e"
      },
      "outputs": [],
      "source": [
        "from sklearn.preprocessing import MinMaxScaler\n",
        "from pandas import DataFrame\n",
        "\n",
        "\n",
        "scaler = StandardScaler()\n",
        "\n",
        "X_train = DataFrame(scaler.fit_transform(X_train))\n",
        "X_test = DataFrame(scaler.fit_transform(X_test))"
      ]
    },
    {
      "cell_type": "code",
      "execution_count": null,
      "id": "67581e8a",
      "metadata": {
        "id": "67581e8a"
      },
      "outputs": [],
      "source": [
        "# separar datos de entrenamiento y test"
      ]
    },
    {
      "cell_type": "code",
      "execution_count": null,
      "id": "c21728d4",
      "metadata": {
        "id": "c21728d4"
      },
      "outputs": [],
      "source": []
    },
    {
      "cell_type": "code",
      "execution_count": null,
      "id": "79d85a9d",
      "metadata": {
        "id": "79d85a9d"
      },
      "outputs": [],
      "source": [
        "# escoger la variable que a partir del EDA realizado, consideres que mejor va a realizar la predicción"
      ]
    },
    {
      "cell_type": "code",
      "execution_count": null,
      "id": "8a58cecb",
      "metadata": {
        "id": "8a58cecb"
      },
      "outputs": [],
      "source": []
    },
    {
      "cell_type": "code",
      "execution_count": null,
      "id": "c50feba1",
      "metadata": {
        "id": "c50feba1"
      },
      "outputs": [],
      "source": [
        "# entrena el modelo con los datos de entrenamiento"
      ]
    },
    {
      "cell_type": "code",
      "execution_count": null,
      "id": "fca81958",
      "metadata": {
        "id": "fca81958"
      },
      "outputs": [],
      "source": []
    },
    {
      "cell_type": "code",
      "execution_count": null,
      "id": "2d84aebf",
      "metadata": {
        "id": "2d84aebf"
      },
      "outputs": [],
      "source": [
        "# ¿cuáles son los valores aprendidos por el modelo para los parámetros?"
      ]
    },
    {
      "cell_type": "code",
      "execution_count": null,
      "id": "a26e799f",
      "metadata": {
        "id": "a26e799f"
      },
      "outputs": [],
      "source": []
    },
    {
      "cell_type": "markdown",
      "id": "fe08b6a5",
      "metadata": {
        "id": "fe08b6a5"
      },
      "source": [
        "Explica qué indican estos parámetros"
      ]
    },
    {
      "cell_type": "markdown",
      "id": "3a1790ad",
      "metadata": {
        "id": "3a1790ad"
      },
      "source": [
        "_indica aquí tu respuesta_"
      ]
    },
    {
      "cell_type": "code",
      "execution_count": null,
      "id": "c9cb2757",
      "metadata": {
        "id": "c9cb2757"
      },
      "outputs": [],
      "source": []
    },
    {
      "cell_type": "code",
      "execution_count": null,
      "id": "a47f6206",
      "metadata": {
        "id": "a47f6206"
      },
      "outputs": [],
      "source": [
        "# realiza las predicciones para el conjunto de datos de test"
      ]
    },
    {
      "cell_type": "code",
      "execution_count": null,
      "id": "fddecaad",
      "metadata": {
        "id": "fddecaad"
      },
      "outputs": [],
      "source": []
    },
    {
      "cell_type": "code",
      "execution_count": null,
      "id": "29b2919f",
      "metadata": {
        "id": "29b2919f"
      },
      "outputs": [],
      "source": [
        "# Ahora es necesario evaluar el modelo. ¿Qué métrica es mejor utilizar en este caso?"
      ]
    },
    {
      "cell_type": "markdown",
      "id": "3badc9dc",
      "metadata": {
        "id": "3badc9dc"
      },
      "source": [
        "_indica aquí tu respuesta_"
      ]
    },
    {
      "cell_type": "code",
      "execution_count": null,
      "id": "21ad02dc",
      "metadata": {
        "id": "21ad02dc"
      },
      "outputs": [],
      "source": []
    },
    {
      "cell_type": "code",
      "execution_count": null,
      "id": "7e62392a",
      "metadata": {
        "id": "7e62392a"
      },
      "outputs": [],
      "source": [
        "# ¿Qué error tiene el modelo? Explícalo."
      ]
    },
    {
      "cell_type": "markdown",
      "id": "32a87fc5",
      "metadata": {
        "id": "32a87fc5"
      },
      "source": [
        "_indica aquí tu respuesta_"
      ]
    },
    {
      "cell_type": "code",
      "execution_count": null,
      "id": "b8dfd0d2",
      "metadata": {
        "id": "b8dfd0d2"
      },
      "outputs": [],
      "source": []
    },
    {
      "cell_type": "markdown",
      "id": "fe964d5b",
      "metadata": {
        "id": "fe964d5b"
      },
      "source": [
        "Ahora debes entrenar un segundo modelo que haga uso de una regresión lineal múltiple con todas las variables del dataset. Después de entrenar, realiza las predicciones para este segundo modelo."
      ]
    },
    {
      "cell_type": "code",
      "execution_count": null,
      "id": "322a1443",
      "metadata": {
        "id": "322a1443"
      },
      "outputs": [],
      "source": []
    },
    {
      "cell_type": "code",
      "execution_count": null,
      "id": "c0e5837f",
      "metadata": {
        "id": "c0e5837f"
      },
      "outputs": [],
      "source": []
    },
    {
      "cell_type": "code",
      "execution_count": null,
      "id": "776a7831",
      "metadata": {
        "id": "776a7831"
      },
      "outputs": [],
      "source": []
    },
    {
      "cell_type": "markdown",
      "id": "9f545c06",
      "metadata": {
        "id": "9f545c06"
      },
      "source": [
        "¿Qué error tiene este modelo?¿Es mejor o peor que el anterior?"
      ]
    },
    {
      "cell_type": "markdown",
      "id": "9d348b07",
      "metadata": {
        "id": "9d348b07"
      },
      "source": [
        "_indica aquí tu respuesta_"
      ]
    },
    {
      "cell_type": "code",
      "execution_count": null,
      "id": "4d030be8",
      "metadata": {
        "id": "4d030be8"
      },
      "outputs": [],
      "source": []
    },
    {
      "cell_type": "markdown",
      "id": "bdf217a2",
      "metadata": {
        "id": "bdf217a2"
      },
      "source": [
        "#### Regresión con árboles de decisión\n",
        "\n",
        "A continuación, se requiere hacer dos modelos que usen árboles de decisión para realizar las predicciones.\n",
        "\n",
        "Para los árboles de decisión, al ser una tarea de regresión, hay que usar el módulo https://scikit-learn.org/stable/modules/generated/sklearn.tree.DecisionTreeRegressor.html\n",
        "\n",
        "El algortimo de DTRegressor necesitar ajustar una serie de hiperparámetros para realizar las predicciones. La implementación de sklearn nos da mucha flexibilidad para nuestros modelos. En general, para los problemas más comunes de regresión, nos tenemos que preocupar de los siguientes hiperparámetros:\n",
        "\n",
        "* criterion\n",
        "* splitter\n",
        "* max_depth\n",
        "* min_samples_split\n",
        "* min_samples_leaf\n",
        "* max_features\n",
        "\n",
        "Indica qué son cada uno de estos hiperparámetros\n",
        "\n",
        "_indica aquí tu respuesta_\n",
        "\n",
        "Además de los hiperparámetros que acabas de descubrir, la implementación de sklearn tiene el hiperparámetro min_impurity_decrease\n",
        "\n",
        "¿Qué indica ese parámetro? ¿Para qué puede ser útil?\n",
        "\n",
        "_indica aquí tu respuesta_"
      ]
    },
    {
      "cell_type": "markdown",
      "id": "ee600bfe",
      "metadata": {
        "id": "ee600bfe"
      },
      "source": [
        "Entrena un modelo de árboles de decisión donde, el criterio para realizar las particiones sea _poisson_, la profundidad máxima de los árboles debe ser 10, el número mínimo de ejemplos para realizar una partición debe ser 10, el número mínimo de ejemplos para considerarlo una hoja debe ser 2, y el número máximo de características deben ser todas."
      ]
    },
    {
      "cell_type": "code",
      "execution_count": null,
      "id": "0fdab3c8",
      "metadata": {
        "id": "0fdab3c8"
      },
      "outputs": [],
      "source": []
    },
    {
      "cell_type": "code",
      "execution_count": null,
      "id": "de30cfaa",
      "metadata": {
        "id": "de30cfaa"
      },
      "outputs": [],
      "source": []
    },
    {
      "cell_type": "markdown",
      "id": "026fd3c0",
      "metadata": {
        "id": "026fd3c0"
      },
      "source": [
        "Calcula MAE, R2 y RMSLE"
      ]
    },
    {
      "cell_type": "code",
      "execution_count": null,
      "id": "8d8427d2",
      "metadata": {
        "id": "8d8427d2"
      },
      "outputs": [],
      "source": []
    },
    {
      "cell_type": "markdown",
      "id": "995d4579",
      "metadata": {
        "id": "995d4579"
      },
      "source": [
        "¿Existe overfitting? Indica qué debes hacer para comprobar si hay overfitting."
      ]
    },
    {
      "cell_type": "code",
      "execution_count": null,
      "id": "1864f069",
      "metadata": {
        "id": "1864f069"
      },
      "outputs": [],
      "source": []
    },
    {
      "cell_type": "markdown",
      "id": "fddad551",
      "metadata": {
        "id": "fddad551"
      },
      "source": [
        "¿Este modelo es mejor, peor o igual que los de regresión lineal simple y múltiple? Razona tu respuesta."
      ]
    },
    {
      "cell_type": "markdown",
      "id": "e615537e",
      "metadata": {
        "id": "e615537e"
      },
      "source": [
        "_indica aquí tu respuesta_"
      ]
    },
    {
      "cell_type": "markdown",
      "id": "cbe59d0d",
      "metadata": {
        "id": "cbe59d0d"
      },
      "source": [
        "**Comparativa**\n",
        "\n",
        "En base al EDA realizado, a las decisiones tomadas sobre los datos e hiperparámetros y a las características computacionales de tu equipo. ¿Qué modelo obtiene mejores resultados de regresión?"
      ]
    },
    {
      "cell_type": "code",
      "execution_count": null,
      "id": "4d40bbe5",
      "metadata": {
        "id": "4d40bbe5"
      },
      "outputs": [],
      "source": []
    },
    {
      "cell_type": "code",
      "execution_count": null,
      "id": "01353241",
      "metadata": {
        "id": "01353241"
      },
      "outputs": [],
      "source": []
    },
    {
      "cell_type": "markdown",
      "id": "2feb7854",
      "metadata": {
        "id": "2feb7854"
      },
      "source": [
        "## Investigación\n",
        "\n",
        "Buscar un artículo científico (https://scholar.google.es/) con un caso de uso de regresión empleando una de las dos técnicas (o ambas) vistas en la actividad. Los artículos deben estar en revistas científicas, y deben ser posteriores a 2015. No debe utilizar técnicas de Deep Learning.\n",
        "\n",
        "_introduce aquí la referencia APA del artículo_\n",
        "\n",
        "título, autores, revista, año de publicación\n",
        "\n",
        "Objetivo: cuál es el objetivo de la investigación, es decir a qué problema real está aplicando la regresión. Técnicas de regresión empleadas y si realiza alguna adaptación. Principales resultados de la aplicación y de la investigación."
      ]
    },
    {
      "cell_type": "code",
      "execution_count": null,
      "id": "6061c04d",
      "metadata": {
        "id": "6061c04d"
      },
      "outputs": [],
      "source": []
    }
  ],
  "metadata": {
    "kernelspec": {
      "display_name": "Python 3 (ipykernel)",
      "language": "python",
      "name": "python3"
    },
    "language_info": {
      "codemirror_mode": {
        "name": "ipython",
        "version": 3
      },
      "file_extension": ".py",
      "mimetype": "text/x-python",
      "name": "python",
      "nbconvert_exporter": "python",
      "pygments_lexer": "ipython3",
      "version": "3.8.18"
    },
    "colab": {
      "provenance": []
    }
  },
  "nbformat": 4,
  "nbformat_minor": 5
}