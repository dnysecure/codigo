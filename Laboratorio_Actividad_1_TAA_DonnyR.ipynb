{
  "cells": [
    {
      "cell_type": "markdown",
      "id": "e7acabdb",
      "metadata": {
        "id": "e7acabdb"
      },
      "source": [
        "_Aprendizaje Automático_\n",
        "\n",
        "_Máster Universitario en Inteligencia Artificial_\n",
        "\n",
        "# Laboratorio: Regresión lineal y árboles de decisión para tareas de regresión\n",
        "\n",
        "\n",
        "## Objetivos\n",
        "\n",
        "Mediante esta actividad se pretende que ponga en práctica los pasos para la resolución de un problema de machine learning, el tratamiento de datos y la creación de modelos basados en regresión lineal y árboles de decisión. El objetivo es comprender de forma práctica con un problema determinado las diferencias que existen a la hora de entrenar los diferentes modelos.\n",
        "\n",
        "- Iniciarse en el Análisis Exploratorio de Datos (EDA) para los problemas de Machine Learning.\n",
        "- Entender y aplicar los conceptos de la Regresión Lineal Múltiple a un problema de regresión.\n",
        "- Entender y aplicar los conceptos de Árboles de Decisión a un problema de regresión.\n",
        "- Evaluar y analizar los resultados de los clasificadores.\n",
        "- Investigar la aplicación de los modelos de clasificación a problemas reales.\n",
        "\n",
        "\n",
        "## Descripción de la actividad\n",
        "\n",
        "Debes completar los espacios indicados en el notebook con el código solicitado y la respuesta, en función de lo que se solicite. Ten encuenta que las celdas vacías indican cuántas líneas debe ocupar la respuesta, por lo general no más de una línea.\n",
        "\n",
        "El conjunto de datos con el que vamos a trabajar se encuentra en el siguiente enlace: https://archive.ics.uci.edu/dataset/360/air+quality\n",
        "\n",
        "Se trata de un dataset con un conjunto de datos sobre calidad del aire. El conjunto de datos contiene 9358 instancias de respuestas promediadas por hora de una matriz de 5 sensores químicos de óxido de metal integrados en un dispositivo multisensor químico de calidad del aire. El dispositivo estaba ubicado en un área significativamente contaminada, al nivel de la carretera, dentro de una ciudad italiana. Los datos se registraron desde marzo de 2004 hasta febrero de 2005 (un año).\n",
        "\n",
        "El objetivo de la regresión será predecir la calidad del aire para un determinado día.\n",
        "\n",
        "### Tareas que se deben realizar\n",
        "\n",
        "- Análisis descriptivo de los datos:\n",
        "   - Debe completarse el código solicitado y responder a las preguntas. Todo ello en el notebook dado como base.\n",
        "- Regresión:\n",
        "  - Debe completarse el código solicitado y responder a las preguntas. Todo ello en el notebook dado como base.\n",
        "- Investigación:\n",
        "  - Buscar un artículo científico (https://scholar.google.es/) con un caso de uso de regresión empleando una de las dos técnicas (o ambas) vistas en la actividad. Los artículos deben estar en revistas científicas, y deben ser posteriores a 2015. No debe utilizar técnicas de Deep Learning.\n",
        "  - Para el artículo indicar:\n",
        "    - Objetivo: cuál es el objetivo de la investigación, es decir a qué problema real está aplicando la regresión.\n",
        "    - Cómo utilizan las técnicas de regresión, si realizan alguna adaptación de los algoritmos indicarse.\n",
        "    - Principales resultados de la aplicación y de la investigación.\n"
      ]
    },
    {
      "cell_type": "markdown",
      "id": "19ceaba2",
      "metadata": {
        "jp-MarkdownHeadingCollapsed": true,
        "id": "19ceaba2"
      },
      "source": [
        "### Análisis descriptivo de los datos\n",
        "A continuación vas a encontrar una serie de preguntas que tendrás que responder. Para responder tendrás que escribir (y ejecutar) una (o más de una) línea de código, y a continuación indicar la respuesta en la celda indicada."
      ]
    },
    {
      "cell_type": "code",
      "execution_count": 19,
      "id": "bff4b5f9",
      "metadata": {
        "colab": {
          "base_uri": "https://localhost:8080/"
        },
        "id": "bff4b5f9",
        "outputId": "d95754c2-beb7-4edc-df15-11b0695e7143"
      },
      "outputs": [
        {
          "output_type": "stream",
          "name": "stdout",
          "text": [
            "            Date      Time CO(GT)  PT08.S1(CO)  NMHC(GT) C6H6(GT)  \\\n",
            "0     10/03/2004  18.00.00    2,6       1360.0     150.0     11,9   \n",
            "1     10/03/2004  19.00.00      2       1292.0     112.0      9,4   \n",
            "2     10/03/2004  20.00.00    2,2       1402.0      88.0      9,0   \n",
            "3     10/03/2004  21.00.00    2,2       1376.0      80.0      9,2   \n",
            "4     10/03/2004  22.00.00    1,6       1272.0      51.0      6,5   \n",
            "...          ...       ...    ...          ...       ...      ...   \n",
            "9466         NaN       NaN    NaN          NaN       NaN      NaN   \n",
            "9467         NaN       NaN    NaN          NaN       NaN      NaN   \n",
            "9468         NaN       NaN    NaN          NaN       NaN      NaN   \n",
            "9469         NaN       NaN    NaN          NaN       NaN      NaN   \n",
            "9470         NaN       NaN    NaN          NaN       NaN      NaN   \n",
            "\n",
            "      PT08.S2(NMHC)  NOx(GT)  PT08.S3(NOx)  NO2(GT)  PT08.S4(NO2)  \\\n",
            "0            1046.0    166.0        1056.0    113.0        1692.0   \n",
            "1             955.0    103.0        1174.0     92.0        1559.0   \n",
            "2             939.0    131.0        1140.0    114.0        1555.0   \n",
            "3             948.0    172.0        1092.0    122.0        1584.0   \n",
            "4             836.0    131.0        1205.0    116.0        1490.0   \n",
            "...             ...      ...           ...      ...           ...   \n",
            "9466            NaN      NaN           NaN      NaN           NaN   \n",
            "9467            NaN      NaN           NaN      NaN           NaN   \n",
            "9468            NaN      NaN           NaN      NaN           NaN   \n",
            "9469            NaN      NaN           NaN      NaN           NaN   \n",
            "9470            NaN      NaN           NaN      NaN           NaN   \n",
            "\n",
            "      PT08.S5(O3)     T    RH      AH  \n",
            "0          1268.0  13,6  48,9  0,7578  \n",
            "1           972.0  13,3  47,7  0,7255  \n",
            "2          1074.0  11,9  54,0  0,7502  \n",
            "3          1203.0  11,0  60,0  0,7867  \n",
            "4          1110.0  11,2  59,6  0,7888  \n",
            "...           ...   ...   ...     ...  \n",
            "9466          NaN   NaN   NaN     NaN  \n",
            "9467          NaN   NaN   NaN     NaN  \n",
            "9468          NaN   NaN   NaN     NaN  \n",
            "9469          NaN   NaN   NaN     NaN  \n",
            "9470          NaN   NaN   NaN     NaN  \n",
            "\n",
            "[9471 rows x 15 columns]\n"
          ]
        }
      ],
      "source": [
        "## cargar el dataset\n",
        "import pandas as pd\n",
        "df = pd.read_csv(\"/content/drive/MyDrive/Unir/TAA/Actividad1/AirQualityUCI.csv\", low_memory=False, delimiter=';',\n",
        "usecols=[0,1,2,3,4,5,6,7,8,9,10,11,12,13,14]\n",
        ")\n",
        "print(df)"
      ]
    },
    {
      "cell_type": "code",
      "execution_count": null,
      "id": "933235df",
      "metadata": {
        "id": "933235df"
      },
      "outputs": [],
      "source": []
    },
    {
      "cell_type": "code",
      "execution_count": null,
      "id": "51f405b4",
      "metadata": {
        "id": "51f405b4"
      },
      "outputs": [],
      "source": [
        "## ¿cuántas instancias tiene el dataset?"
      ]
    },
    {
      "cell_type": "markdown",
      "id": "672c0ed2",
      "metadata": {
        "id": "672c0ed2"
      },
      "source": [
        "Se puedén observar 9471 filas en el archivo"
      ]
    },
    {
      "cell_type": "code",
      "execution_count": 21,
      "id": "e18abd86",
      "metadata": {
        "colab": {
          "base_uri": "https://localhost:8080/"
        },
        "id": "e18abd86",
        "outputId": "051dd586-f8e8-4fa2-b460-15b9454d4436"
      },
      "outputs": [
        {
          "output_type": "stream",
          "name": "stdout",
          "text": [
            "Columnas Categóricas:\n",
            "['Date', 'Time', 'CO(GT)', 'C6H6(GT)', 'T', 'RH', 'AH']\n",
            "\n",
            "Columnas Continuas:\n",
            "['PT08.S1(CO)', 'NMHC(GT)', 'PT08.S2(NMHC)', 'NOx(GT)', 'PT08.S3(NOx)', 'NO2(GT)', 'PT08.S4(NO2)', 'PT08.S5(O3)']\n",
            "Date              object\n",
            "Time              object\n",
            "CO(GT)            object\n",
            "PT08.S1(CO)      float64\n",
            "NMHC(GT)         float64\n",
            "C6H6(GT)          object\n",
            "PT08.S2(NMHC)    float64\n",
            "NOx(GT)          float64\n",
            "PT08.S3(NOx)     float64\n",
            "NO2(GT)          float64\n",
            "PT08.S4(NO2)     float64\n",
            "PT08.S5(O3)      float64\n",
            "T                 object\n",
            "RH                object\n",
            "AH                object\n",
            "dtype: object\n",
            "<class 'pandas.core.frame.DataFrame'>\n",
            "RangeIndex: 9471 entries, 0 to 9470\n",
            "Data columns (total 15 columns):\n",
            " #   Column         Non-Null Count  Dtype  \n",
            "---  ------         --------------  -----  \n",
            " 0   Date           9357 non-null   object \n",
            " 1   Time           9357 non-null   object \n",
            " 2   CO(GT)         9357 non-null   object \n",
            " 3   PT08.S1(CO)    9357 non-null   float64\n",
            " 4   NMHC(GT)       9357 non-null   float64\n",
            " 5   C6H6(GT)       9357 non-null   object \n",
            " 6   PT08.S2(NMHC)  9357 non-null   float64\n",
            " 7   NOx(GT)        9357 non-null   float64\n",
            " 8   PT08.S3(NOx)   9357 non-null   float64\n",
            " 9   NO2(GT)        9357 non-null   float64\n",
            " 10  PT08.S4(NO2)   9357 non-null   float64\n",
            " 11  PT08.S5(O3)    9357 non-null   float64\n",
            " 12  T              9357 non-null   object \n",
            " 13  RH             9357 non-null   object \n",
            " 14  AH             9357 non-null   object \n",
            "dtypes: float64(8), object(7)\n",
            "memory usage: 1.1+ MB\n"
          ]
        },
        {
          "output_type": "stream",
          "name": "stderr",
          "text": [
            "<ipython-input-21-2deb89385555>:10: DeprecationWarning: is_categorical_dtype is deprecated and will be removed in a future version. Use isinstance(dtype, pd.CategoricalDtype) instead\n",
            "  if pd.api.types.is_categorical_dtype(tipo) or pd.api.types.is_object_dtype(tipo):\n"
          ]
        }
      ],
      "source": [
        "## ¿cuál es el tipo de datos de cada una de las columnas?\n",
        "# Mostrar los tipos de datos de cada columna\n",
        "tipos_datos = df.dtypes\n",
        "\n",
        "# Clasificar columnas en categóricas y continuas\n",
        "categoricos = []\n",
        "continuos = []\n",
        "\n",
        "for columna, tipo in tipos_datos.items():\n",
        "    if pd.api.types.is_categorical_dtype(tipo) or pd.api.types.is_object_dtype(tipo):\n",
        "        categoricos.append(columna)\n",
        "    elif pd.api.types.is_numeric_dtype(tipo):\n",
        "        continuos.append(columna)\n",
        "\n",
        "# Mostrar los resultados\n",
        "print(\"Columnas Categóricas:\")\n",
        "print(categoricos)\n",
        "\n",
        "print(\"\\nColumnas Continuas:\")\n",
        "print(continuos)\n",
        "\n",
        "print(df.dtypes)\n",
        "df.info()\n"
      ]
    },
    {
      "cell_type": "markdown",
      "id": "d1c990c1",
      "metadata": {
        "id": "d1c990c1"
      },
      "source": [
        "_indica aquí tu respuesta_"
      ]
    },
    {
      "cell_type": "code",
      "execution_count": null,
      "id": "150ac3f5",
      "metadata": {
        "id": "150ac3f5"
      },
      "outputs": [],
      "source": [
        "## ¿cuántas columnas categóricas hay? ¿y cuántas continuas?"
      ]
    },
    {
      "cell_type": "markdown",
      "id": "dc913654",
      "metadata": {
        "id": "dc913654"
      },
      "source": [
        "_indica aquí tu respuesta_"
      ]
    },
    {
      "cell_type": "code",
      "execution_count": null,
      "id": "a52b4cf2",
      "metadata": {
        "id": "a52b4cf2"
      },
      "outputs": [],
      "source": [
        "## ¿existen valores nulos en el dataset?"
      ]
    },
    {
      "cell_type": "markdown",
      "id": "6a417398",
      "metadata": {
        "id": "6a417398"
      },
      "source": [
        "_indica aquí tu respuesta_"
      ]
    },
    {
      "cell_type": "code",
      "execution_count": null,
      "id": "e4c1b97d",
      "metadata": {
        "id": "e4c1b97d"
      },
      "outputs": [],
      "source": [
        "## ¿cuál es la variable respuesta?¿de qué tipo es?"
      ]
    },
    {
      "cell_type": "markdown",
      "id": "b1c1fdde",
      "metadata": {
        "id": "b1c1fdde"
      },
      "source": [
        "_indica aquí tu respuesta_"
      ]
    },
    {
      "cell_type": "code",
      "execution_count": null,
      "id": "159b126d",
      "metadata": {
        "id": "159b126d"
      },
      "outputs": [],
      "source": [
        "## Si te fijas en los estadísticos del dataset, ¿cómo es la distribución de las variables, CO, NOx y NO2?"
      ]
    },
    {
      "cell_type": "markdown",
      "id": "189880ab",
      "metadata": {
        "id": "189880ab"
      },
      "source": [
        "_indica aquí tu respuesta_"
      ]
    },
    {
      "cell_type": "markdown",
      "id": "dab9bd22",
      "metadata": {
        "id": "dab9bd22"
      },
      "source": [
        "¿Estas variables muestran alguna distribución especial?¿Tienen datos faltantes?¿y datos anómalos?"
      ]
    },
    {
      "cell_type": "markdown",
      "id": "43f922c8",
      "metadata": {
        "id": "43f922c8"
      },
      "source": [
        "_indica aquí tu respuesta_"
      ]
    },
    {
      "cell_type": "code",
      "execution_count": null,
      "id": "895be4fe",
      "metadata": {
        "id": "895be4fe"
      },
      "outputs": [],
      "source": [
        "## ¿cómo son las correlaciones entre las variables del dataset?"
      ]
    },
    {
      "cell_type": "code",
      "execution_count": null,
      "id": "cc8d1c50",
      "metadata": {
        "id": "cc8d1c50"
      },
      "outputs": [],
      "source": []
    },
    {
      "cell_type": "markdown",
      "id": "3b0603eb",
      "metadata": {
        "id": "3b0603eb"
      },
      "source": [
        "_indica aquí tu respuesta_"
      ]
    },
    {
      "cell_type": "code",
      "execution_count": null,
      "id": "72192498",
      "metadata": {
        "id": "72192498"
      },
      "outputs": [],
      "source": [
        "## ¿qué tres variables son las más correlacionadas con la variable objetivo?"
      ]
    },
    {
      "cell_type": "markdown",
      "id": "d3763b5c",
      "metadata": {
        "id": "d3763b5c"
      },
      "source": [
        "_indica aquí tu respuesta_"
      ]
    },
    {
      "cell_type": "code",
      "execution_count": null,
      "id": "92241ae1",
      "metadata": {
        "id": "92241ae1"
      },
      "outputs": [],
      "source": []
    },
    {
      "cell_type": "code",
      "execution_count": null,
      "id": "33dbcc4f",
      "metadata": {
        "id": "33dbcc4f"
      },
      "outputs": [],
      "source": [
        "## ¿existe alguna variable que no tenga correlación?"
      ]
    },
    {
      "cell_type": "markdown",
      "id": "3f368719",
      "metadata": {
        "id": "3f368719"
      },
      "source": [
        "_indica aquí tu respuesta_"
      ]
    },
    {
      "cell_type": "code",
      "execution_count": null,
      "id": "a8ee5560",
      "metadata": {
        "id": "a8ee5560"
      },
      "outputs": [],
      "source": []
    },
    {
      "cell_type": "markdown",
      "id": "ce7c5aa2",
      "metadata": {
        "id": "ce7c5aa2"
      },
      "source": [
        "En base al EDA realizado, ¿qué suposiciones se pueden hacer sobre los datos?¿qué conclusiones extraes para implementar el modelo predictivo?"
      ]
    },
    {
      "cell_type": "markdown",
      "id": "aae42f2d",
      "metadata": {
        "id": "aae42f2d"
      },
      "source": [
        "_indica aquí tu respuesta_"
      ]
    },
    {
      "cell_type": "markdown",
      "id": "cec604c3",
      "metadata": {
        "id": "cec604c3"
      },
      "source": [
        "### Regresión\n",
        "\n",
        "Para llevar a cabo la tarea de regresión deseada se pretender hacer una comparativa de varios modelos. Unos usarán el algortimo de regresión lineal, y otros realizarán la predicción haciendo uso de árboles de decisión.\n",
        "\n",
        "Para los primeros modelos hay que usar el módulo https://scikit-learn.org/stable/modules/generated/sklearn.linear_model.LinearRegression.html\n",
        "\n",
        "El algortimo de Regresión Lineal necesita saber cuáles son las variables que va a tener en cuenta para realizar la estimación.\n",
        "\n",
        "El primero modelo que se debe construir usará una regresión lineal simple. Para ello sigue los siguientes pasos."
      ]
    },
    {
      "cell_type": "markdown",
      "id": "151b0658",
      "metadata": {
        "id": "151b0658"
      },
      "source": [
        "Antes de empezar con la implementación de los modelos hace falta realizar una transformación de datos, escalarlos."
      ]
    },
    {
      "cell_type": "code",
      "execution_count": null,
      "id": "36baf00e",
      "metadata": {
        "id": "36baf00e"
      },
      "outputs": [],
      "source": [
        "from sklearn.preprocessing import MinMaxScaler\n",
        "from pandas import DataFrame\n",
        "\n",
        "\n",
        "scaler = StandardScaler()\n",
        "\n",
        "X_train = DataFrame(scaler.fit_transform(X_train))\n",
        "X_test = DataFrame(scaler.fit_transform(X_test))"
      ]
    },
    {
      "cell_type": "code",
      "execution_count": null,
      "id": "67581e8a",
      "metadata": {
        "id": "67581e8a"
      },
      "outputs": [],
      "source": [
        "# separar datos de entrenamiento y test"
      ]
    },
    {
      "cell_type": "code",
      "execution_count": null,
      "id": "c21728d4",
      "metadata": {
        "id": "c21728d4"
      },
      "outputs": [],
      "source": []
    },
    {
      "cell_type": "code",
      "execution_count": null,
      "id": "79d85a9d",
      "metadata": {
        "id": "79d85a9d"
      },
      "outputs": [],
      "source": [
        "# escoger la variable que a partir del EDA realizado, consideres que mejor va a realizar la predicción"
      ]
    },
    {
      "cell_type": "code",
      "execution_count": null,
      "id": "8a58cecb",
      "metadata": {
        "id": "8a58cecb"
      },
      "outputs": [],
      "source": []
    },
    {
      "cell_type": "code",
      "execution_count": null,
      "id": "c50feba1",
      "metadata": {
        "id": "c50feba1"
      },
      "outputs": [],
      "source": [
        "# entrena el modelo con los datos de entrenamiento"
      ]
    },
    {
      "cell_type": "code",
      "execution_count": null,
      "id": "fca81958",
      "metadata": {
        "id": "fca81958"
      },
      "outputs": [],
      "source": []
    },
    {
      "cell_type": "code",
      "execution_count": null,
      "id": "2d84aebf",
      "metadata": {
        "id": "2d84aebf"
      },
      "outputs": [],
      "source": [
        "# ¿cuáles son los valores aprendidos por el modelo para los parámetros?"
      ]
    },
    {
      "cell_type": "code",
      "execution_count": null,
      "id": "a26e799f",
      "metadata": {
        "id": "a26e799f"
      },
      "outputs": [],
      "source": []
    },
    {
      "cell_type": "markdown",
      "id": "fe08b6a5",
      "metadata": {
        "id": "fe08b6a5"
      },
      "source": [
        "Explica qué indican estos parámetros"
      ]
    },
    {
      "cell_type": "markdown",
      "id": "3a1790ad",
      "metadata": {
        "id": "3a1790ad"
      },
      "source": [
        "_indica aquí tu respuesta_"
      ]
    },
    {
      "cell_type": "code",
      "execution_count": null,
      "id": "c9cb2757",
      "metadata": {
        "id": "c9cb2757"
      },
      "outputs": [],
      "source": []
    },
    {
      "cell_type": "code",
      "execution_count": null,
      "id": "a47f6206",
      "metadata": {
        "id": "a47f6206"
      },
      "outputs": [],
      "source": [
        "# realiza las predicciones para el conjunto de datos de test"
      ]
    },
    {
      "cell_type": "code",
      "execution_count": null,
      "id": "fddecaad",
      "metadata": {
        "id": "fddecaad"
      },
      "outputs": [],
      "source": []
    },
    {
      "cell_type": "code",
      "execution_count": null,
      "id": "29b2919f",
      "metadata": {
        "id": "29b2919f"
      },
      "outputs": [],
      "source": [
        "# Ahora es necesario evaluar el modelo. ¿Qué métrica es mejor utilizar en este caso?"
      ]
    },
    {
      "cell_type": "markdown",
      "id": "3badc9dc",
      "metadata": {
        "id": "3badc9dc"
      },
      "source": [
        "_indica aquí tu respuesta_"
      ]
    },
    {
      "cell_type": "code",
      "execution_count": null,
      "id": "21ad02dc",
      "metadata": {
        "id": "21ad02dc"
      },
      "outputs": [],
      "source": []
    },
    {
      "cell_type": "code",
      "execution_count": null,
      "id": "7e62392a",
      "metadata": {
        "id": "7e62392a"
      },
      "outputs": [],
      "source": [
        "# ¿Qué error tiene el modelo? Explícalo."
      ]
    },
    {
      "cell_type": "markdown",
      "id": "32a87fc5",
      "metadata": {
        "id": "32a87fc5"
      },
      "source": [
        "_indica aquí tu respuesta_"
      ]
    },
    {
      "cell_type": "code",
      "execution_count": null,
      "id": "b8dfd0d2",
      "metadata": {
        "id": "b8dfd0d2"
      },
      "outputs": [],
      "source": []
    },
    {
      "cell_type": "markdown",
      "id": "fe964d5b",
      "metadata": {
        "id": "fe964d5b"
      },
      "source": [
        "Ahora debes entrenar un segundo modelo que haga uso de una regresión lineal múltiple con todas las variables del dataset. Después de entrenar, realiza las predicciones para este segundo modelo."
      ]
    },
    {
      "cell_type": "code",
      "execution_count": null,
      "id": "322a1443",
      "metadata": {
        "id": "322a1443"
      },
      "outputs": [],
      "source": []
    },
    {
      "cell_type": "code",
      "execution_count": null,
      "id": "c0e5837f",
      "metadata": {
        "id": "c0e5837f"
      },
      "outputs": [],
      "source": []
    },
    {
      "cell_type": "code",
      "execution_count": null,
      "id": "776a7831",
      "metadata": {
        "id": "776a7831"
      },
      "outputs": [],
      "source": []
    },
    {
      "cell_type": "markdown",
      "id": "9f545c06",
      "metadata": {
        "id": "9f545c06"
      },
      "source": [
        "¿Qué error tiene este modelo?¿Es mejor o peor que el anterior?"
      ]
    },
    {
      "cell_type": "markdown",
      "id": "9d348b07",
      "metadata": {
        "id": "9d348b07"
      },
      "source": [
        "_indica aquí tu respuesta_"
      ]
    },
    {
      "cell_type": "code",
      "execution_count": null,
      "id": "4d030be8",
      "metadata": {
        "id": "4d030be8"
      },
      "outputs": [],
      "source": []
    },
    {
      "cell_type": "markdown",
      "id": "bdf217a2",
      "metadata": {
        "id": "bdf217a2"
      },
      "source": [
        "#### Regresión con árboles de decisión\n",
        "\n",
        "A continuación, se requiere hacer dos modelos que usen árboles de decisión para realizar las predicciones.\n",
        "\n",
        "Para los árboles de decisión, al ser una tarea de regresión, hay que usar el módulo https://scikit-learn.org/stable/modules/generated/sklearn.tree.DecisionTreeRegressor.html\n",
        "\n",
        "El algortimo de DTRegressor necesitar ajustar una serie de hiperparámetros para realizar las predicciones. La implementación de sklearn nos da mucha flexibilidad para nuestros modelos. En general, para los problemas más comunes de regresión, nos tenemos que preocupar de los siguientes hiperparámetros:\n",
        "\n",
        "* criterion\n",
        "* splitter\n",
        "* max_depth\n",
        "* min_samples_split\n",
        "* min_samples_leaf\n",
        "* max_features\n",
        "\n",
        "Indica qué son cada uno de estos hiperparámetros\n",
        "\n",
        "_indica aquí tu respuesta_\n",
        "\n",
        "Además de los hiperparámetros que acabas de descubrir, la implementación de sklearn tiene el hiperparámetro min_impurity_decrease\n",
        "\n",
        "¿Qué indica ese parámetro? ¿Para qué puede ser útil?\n",
        "\n",
        "_indica aquí tu respuesta_"
      ]
    },
    {
      "cell_type": "markdown",
      "id": "ee600bfe",
      "metadata": {
        "id": "ee600bfe"
      },
      "source": [
        "Entrena un modelo de árboles de decisión donde, el criterio para realizar las particiones sea _poisson_, la profundidad máxima de los árboles debe ser 10, el número mínimo de ejemplos para realizar una partición debe ser 10, el número mínimo de ejemplos para considerarlo una hoja debe ser 2, y el número máximo de características deben ser todas."
      ]
    },
    {
      "cell_type": "code",
      "execution_count": null,
      "id": "0fdab3c8",
      "metadata": {
        "id": "0fdab3c8"
      },
      "outputs": [],
      "source": []
    },
    {
      "cell_type": "code",
      "execution_count": null,
      "id": "de30cfaa",
      "metadata": {
        "id": "de30cfaa"
      },
      "outputs": [],
      "source": []
    },
    {
      "cell_type": "markdown",
      "id": "026fd3c0",
      "metadata": {
        "id": "026fd3c0"
      },
      "source": [
        "Calcula MAE, R2 y RMSLE"
      ]
    },
    {
      "cell_type": "code",
      "execution_count": null,
      "id": "8d8427d2",
      "metadata": {
        "id": "8d8427d2"
      },
      "outputs": [],
      "source": []
    },
    {
      "cell_type": "markdown",
      "id": "995d4579",
      "metadata": {
        "id": "995d4579"
      },
      "source": [
        "¿Existe overfitting? Indica qué debes hacer para comprobar si hay overfitting."
      ]
    },
    {
      "cell_type": "code",
      "execution_count": null,
      "id": "1864f069",
      "metadata": {
        "id": "1864f069"
      },
      "outputs": [],
      "source": []
    },
    {
      "cell_type": "markdown",
      "id": "fddad551",
      "metadata": {
        "id": "fddad551"
      },
      "source": [
        "¿Este modelo es mejor, peor o igual que los de regresión lineal simple y múltiple? Razona tu respuesta."
      ]
    },
    {
      "cell_type": "markdown",
      "id": "e615537e",
      "metadata": {
        "id": "e615537e"
      },
      "source": [
        "_indica aquí tu respuesta_"
      ]
    },
    {
      "cell_type": "markdown",
      "id": "cbe59d0d",
      "metadata": {
        "id": "cbe59d0d"
      },
      "source": [
        "**Comparativa**\n",
        "\n",
        "En base al EDA realizado, a las decisiones tomadas sobre los datos e hiperparámetros y a las características computacionales de tu equipo. ¿Qué modelo obtiene mejores resultados de regresión?"
      ]
    },
    {
      "cell_type": "code",
      "execution_count": null,
      "id": "4d40bbe5",
      "metadata": {
        "id": "4d40bbe5"
      },
      "outputs": [],
      "source": []
    },
    {
      "cell_type": "code",
      "execution_count": null,
      "id": "01353241",
      "metadata": {
        "id": "01353241"
      },
      "outputs": [],
      "source": []
    },
    {
      "cell_type": "markdown",
      "id": "2feb7854",
      "metadata": {
        "id": "2feb7854"
      },
      "source": [
        "## Investigación\n",
        "\n",
        "Buscar un artículo científico (https://scholar.google.es/) con un caso de uso de regresión empleando una de las dos técnicas (o ambas) vistas en la actividad. Los artículos deben estar en revistas científicas, y deben ser posteriores a 2015. No debe utilizar técnicas de Deep Learning.\n",
        "\n",
        "_introduce aquí la referencia APA del artículo_\n",
        "\n",
        "título, autores, revista, año de publicación\n",
        "\n",
        "Objetivo: cuál es el objetivo de la investigación, es decir a qué problema real está aplicando la regresión. Técnicas de regresión empleadas y si realiza alguna adaptación. Principales resultados de la aplicación y de la investigación."
      ]
    },
    {
      "cell_type": "code",
      "execution_count": null,
      "id": "6061c04d",
      "metadata": {
        "id": "6061c04d"
      },
      "outputs": [],
      "source": []
    }
  ],
  "metadata": {
    "kernelspec": {
      "display_name": "Python 3 (ipykernel)",
      "language": "python",
      "name": "python3"
    },
    "language_info": {
      "codemirror_mode": {
        "name": "ipython",
        "version": 3
      },
      "file_extension": ".py",
      "mimetype": "text/x-python",
      "name": "python",
      "nbconvert_exporter": "python",
      "pygments_lexer": "ipython3",
      "version": "3.8.18"
    },
    "colab": {
      "provenance": []
    }
  },
  "nbformat": 4,
  "nbformat_minor": 5
}